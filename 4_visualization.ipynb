{
 "cells": [
  {
   "cell_type": "code",
   "execution_count": null,
   "metadata": {},
   "outputs": [],
   "source": []
  },
  {
   "cell_type": "code",
   "execution_count": null,
   "metadata": {},
   "outputs": [],
   "source": []
  },
  {
   "cell_type": "code",
   "execution_count": null,
   "metadata": {},
   "outputs": [],
   "source": [
    "drugs = sorted(np.unique(y))\n"
   ]
  },
  {
   "cell_type": "code",
   "execution_count": null,
   "metadata": {},
   "outputs": [],
   "source": [
    "# Fit the model using t-SNE randomized algorithm\n",
    "X_projected = TSNE(metric='cosine', random_state=0).fit_transform(model.docvecs.vectors_docs)\n"
   ]
  },
  {
   "cell_type": "code",
   "execution_count": null,
   "metadata": {},
   "outputs": [],
   "source": [
    "def scatter(X, drugs_to_plot=drugs):\n",
    "    # make a custom color palette with seaborn\n",
    "    gray_palette = [[0.8, 0.8, 0.8]]\n",
    "    color_palette = sns.color_palette(\"hls\", len(drugs_to_plot))\n",
    "    palette = np.array(color_palette + gray_palette)\n",
    "    sns.palplot(palette)\n",
    "    \n",
    "    # get colors for selected classes\n",
    "    drug_to_rank_dict = {drug: i for i, drug in enumerate(drugs_to_plot)}\n",
    "    color_indices = np.array([np.int(drug_to_rank_dict[drug]) if drug in drugs_to_plot else -1 for drug in y])\n",
    "    color_index_to_drug_dict = {i: drug for i, drug in enumerate(drugs_to_plot)}\n",
    "\n",
    "    # We create a scatter plot.\n",
    "    f = plt.figure(figsize=(32, 32))\n",
    "    ax = plt.subplot(aspect='equal')\n",
    "    sc = ax.scatter(X[:,0], X[:,1], lw=0, s=120,\n",
    "                    c=palette[color_indices])\n",
    "    #plt.xlim(-25, 25)\n",
    "    #plt.ylim(-25, 25)\n",
    "    ax.axis('off')\n",
    "    ax.axis('tight')\n",
    "\n",
    "    # We add the labels for each cluster.\n",
    "    \n",
    "    txts = []\n",
    "    for i, drug in enumerate(drugs_to_plot):\n",
    "        # Position of each label.\n",
    "        xtext, ytext = np.median(X[color_indices == i, :], axis=0)\n",
    "        txt = ax.text(xtext, ytext, color_index_to_drug_dict[i], fontsize=20)\n",
    "        txt.set_path_effects([\n",
    "            PathEffects.Stroke(linewidth=5, foreground=\"w\"),\n",
    "            PathEffects.Normal()])\n",
    "        txts.append(txt)\n",
    "    \n",
    "    return f, ax, sc, txts\n"
   ]
  },
  {
   "cell_type": "code",
   "execution_count": null,
   "metadata": {},
   "outputs": [],
   "source": [
    "scatter(X_projected)\n"
   ]
  },
  {
   "cell_type": "code",
   "execution_count": null,
   "metadata": {},
   "outputs": [],
   "source": [
    "for drug in drugs:\n",
    "    drugs_to_plot = [drug]\n",
    "    scatter(X_projected, drugs_to_plot)\n",
    "    "
   ]
  },
  {
   "cell_type": "code",
   "execution_count": null,
   "metadata": {},
   "outputs": [],
   "source": []
  }
 ],
 "metadata": {
  "kernelspec": {
   "display_name": "Python 3",
   "language": "python",
   "name": "python3"
  },
  "language_info": {
   "codemirror_mode": {
    "name": "ipython",
    "version": 3
   },
   "file_extension": ".py",
   "mimetype": "text/x-python",
   "name": "python",
   "nbconvert_exporter": "python",
   "pygments_lexer": "ipython3",
   "version": "3.7.4"
  }
 },
 "nbformat": 4,
 "nbformat_minor": 2
}
