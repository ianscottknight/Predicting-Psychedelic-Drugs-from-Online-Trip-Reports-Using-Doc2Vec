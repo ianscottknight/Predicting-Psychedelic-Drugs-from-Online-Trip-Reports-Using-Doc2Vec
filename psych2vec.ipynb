{
 "cells": [
  {
   "cell_type": "code",
   "execution_count": 461,
   "metadata": {},
   "outputs": [],
   "source": [
    "import util, scrape\n",
    "\n",
    "import collections\n",
    "import itertools\n",
    "import re\n",
    "import pickle\n",
    "import csv\n",
    "import multiprocessing\n",
    "\n",
    "from tqdm.auto import tqdm\n",
    "tqdm.pandas()\n",
    "\n",
    "import numpy as np\n",
    "import pandas as pd\n",
    "import scipy \n",
    "import nltk\n",
    "import gensim\n",
    "import string\n",
    "import spacy"
   ]
  },
  {
   "cell_type": "code",
   "execution_count": 484,
   "metadata": {},
   "outputs": [],
   "source": [
    "import importlib\n",
    "util = importlib.reload(util)\n",
    "scrape = importlib.reload(scrape)"
   ]
  },
  {
   "cell_type": "code",
   "execution_count": 4,
   "metadata": {},
   "outputs": [],
   "source": [
    "MIN_NUM_TRIP_REPORTS = 25\n",
    "\n",
    "df = pd.read_csv(util.TRIP_REPORTS_FILE)\n",
    "\n",
    "drug_to_trip_reports_count_dict = dict(sorted(collections.Counter(df[\"drug\"]).items(), key=lambda x: x[1]))\n",
    "drugs_to_ignore = [drug for drug, count in drug_to_trip_reports_count_dict.items() if count < MIN_NUM_TRIP_REPORTS]\n",
    "\n",
    "for drug_to_ignore in drugs_to_ignore:\n",
    "    df = df[df.drug != drug_to_ignore]\n",
    "    \n",
    "df = df.sample(frac=1)\n",
    "df.reset_index(inplace=True, drop=True)"
   ]
  },
  {
   "cell_type": "code",
   "execution_count": 5,
   "metadata": {
    "scrolled": false
   },
   "outputs": [
    {
     "data": {
      "text/html": [
       "<div>\n",
       "<style scoped>\n",
       "    .dataframe tbody tr th:only-of-type {\n",
       "        vertical-align: middle;\n",
       "    }\n",
       "\n",
       "    .dataframe tbody tr th {\n",
       "        vertical-align: top;\n",
       "    }\n",
       "\n",
       "    .dataframe thead th {\n",
       "        text-align: right;\n",
       "    }\n",
       "</style>\n",
       "<table border=\"1\" class=\"dataframe\">\n",
       "  <thead>\n",
       "    <tr style=\"text-align: right;\">\n",
       "      <th></th>\n",
       "      <th>drug</th>\n",
       "      <th>trip_report</th>\n",
       "    </tr>\n",
       "  </thead>\n",
       "  <tbody>\n",
       "    <tr>\n",
       "      <th>0</th>\n",
       "      <td>4HOMiPT</td>\n",
       "      <td>A friend recently told me of  this experience ...</td>\n",
       "    </tr>\n",
       "    <tr>\n",
       "      <th>1</th>\n",
       "      <td>DMT</td>\n",
       "      <td>I think some people are naturally more prone t...</td>\n",
       "    </tr>\n",
       "    <tr>\n",
       "      <th>2</th>\n",
       "      <td>Mushrooms</td>\n",
       "      <td>I was fourteen when I had my first experience ...</td>\n",
       "    </tr>\n",
       "    <tr>\n",
       "      <th>3</th>\n",
       "      <td>Salvia_divinorum</td>\n",
       "      <td>Before you are the events of my second encount...</td>\n",
       "    </tr>\n",
       "    <tr>\n",
       "      <th>4</th>\n",
       "      <td>25CNBOMe</td>\n",
       "      <td>T 0;00  150mgs mdma   400ug 25c-NBOMe   T 1;00...</td>\n",
       "    </tr>\n",
       "    <tr>\n",
       "      <th>...</th>\n",
       "      <td>...</td>\n",
       "      <td>...</td>\n",
       "    </tr>\n",
       "    <tr>\n",
       "      <th>5365</th>\n",
       "      <td>4AcODET</td>\n",
       "      <td>4:00   Set up well for an experience. Home is ...</td>\n",
       "    </tr>\n",
       "    <tr>\n",
       "      <th>5366</th>\n",
       "      <td>25INBOMe</td>\n",
       "      <td>This won't be the best report, as I can't real...</td>\n",
       "    </tr>\n",
       "    <tr>\n",
       "      <th>5367</th>\n",
       "      <td>Mushrooms</td>\n",
       "      <td>I shall take a moment to introduce a prelimina...</td>\n",
       "    </tr>\n",
       "    <tr>\n",
       "      <th>5368</th>\n",
       "      <td>Salvia_divinorum</td>\n",
       "      <td>Trip 1 - Mushrooms &amp; Salvia   lvl 4   I had ju...</td>\n",
       "    </tr>\n",
       "    <tr>\n",
       "      <th>5369</th>\n",
       "      <td>Morning_Glory</td>\n",
       "      <td>I bought some untreated morning glory seeds a ...</td>\n",
       "    </tr>\n",
       "  </tbody>\n",
       "</table>\n",
       "<p>5370 rows × 2 columns</p>\n",
       "</div>"
      ],
      "text/plain": [
       "                  drug                                        trip_report\n",
       "0              4HOMiPT  A friend recently told me of  this experience ...\n",
       "1                  DMT  I think some people are naturally more prone t...\n",
       "2            Mushrooms  I was fourteen when I had my first experience ...\n",
       "3     Salvia_divinorum  Before you are the events of my second encount...\n",
       "4             25CNBOMe  T 0;00  150mgs mdma   400ug 25c-NBOMe   T 1;00...\n",
       "...                ...                                                ...\n",
       "5365           4AcODET  4:00   Set up well for an experience. Home is ...\n",
       "5366          25INBOMe  This won't be the best report, as I can't real...\n",
       "5367         Mushrooms  I shall take a moment to introduce a prelimina...\n",
       "5368  Salvia_divinorum  Trip 1 - Mushrooms & Salvia   lvl 4   I had ju...\n",
       "5369     Morning_Glory  I bought some untreated morning glory seeds a ...\n",
       "\n",
       "[5370 rows x 2 columns]"
      ]
     },
     "execution_count": 5,
     "metadata": {},
     "output_type": "execute_result"
    }
   ],
   "source": [
    "df"
   ]
  },
  {
   "cell_type": "code",
   "execution_count": 6,
   "metadata": {
    "scrolled": true
   },
   "outputs": [],
   "source": [
    "def get_drug_to_phrase_relative_frequency_dict(phrase):\n",
    "    drug_to_count_dict = collections.defaultdict(int)\n",
    "    drug_to_phrase_frequency_dict = collections.defaultdict(int)\n",
    "    for i, trip_report in enumerate(df[\"trip_report\"]):\n",
    "        drug_to_count_dict[df[\"drug\"][i]] += 1\n",
    "        if phrase in trip_report:\n",
    "            drug_to_phrase_frequency_dict[df[\"drug\"][i]] += 1\n",
    "    \n",
    "    phrase_relative_frequency_dict = {drug : round(float(drug_to_phrase_frequency_dict[drug] / drug_to_count_dict[drug]), 2) for drug in drug_to_count_dict.keys()}\n",
    "    \n",
    "    return phrase_relative_frequency_dict\n"
   ]
  },
  {
   "cell_type": "code",
   "execution_count": 102,
   "metadata": {},
   "outputs": [
    {
     "data": {
      "application/vnd.jupyter.widget-view+json": {
       "model_id": "d4f06976adf84b888228d285c48a9726",
       "version_major": 2,
       "version_minor": 0
      },
      "text/plain": [
       "HBox(children=(IntProgress(value=0, max=5370), HTML(value='')))"
      ]
     },
     "metadata": {},
     "output_type": "display_data"
    },
    {
     "name": "stdout",
     "output_type": "stream",
     "text": [
      "\n"
     ]
    },
    {
     "data": {
      "application/vnd.jupyter.widget-view+json": {
       "model_id": "c3d4d7042cc542b1b98934bd1ef495db",
       "version_major": 2,
       "version_minor": 0
      },
      "text/plain": [
       "HBox(children=(IntProgress(value=0, max=5370), HTML(value='')))"
      ]
     },
     "metadata": {},
     "output_type": "display_data"
    },
    {
     "name": "stdout",
     "output_type": "stream",
     "text": [
      "\n"
     ]
    }
   ],
   "source": [
    "def preprocess(text):\n",
    "    # remove square brackets and their contents (messages left by erowid administrators)\n",
    "    brackets = re.findall(re.compile(\"\\(.*?\\)\"), text)\n",
    "    for b in brackets:\n",
    "        names_text = text.replace(b, \" \")\n",
    "    \n",
    "    # remove zero-width space \n",
    "    text = text.replace(\"\\u200b\", \" \")\n",
    "    \n",
    "    return text\n",
    "\n",
    "class EntityRetokenizeComponent:\n",
    "    def __init__(self, pipeline):\n",
    "        pass\n",
    "    \n",
    "    def __call__(self, doc):\n",
    "        with doc.retokenize() as retokenizer:\n",
    "            for ent in doc.ents:\n",
    "                retokenizer.merge(doc[ent.start:ent.end], attrs={\"LEMMA\": str(doc[ent.start:ent.end])})\n",
    "        return doc\n",
    "\n",
    "spacy_pipeline = spacy.load('en')\n",
    "retokenizer = EntityRetokenizeComponent(spacy_pipeline) \n",
    "spacy_pipeline.add_pipe(retokenizer, name='merge_enitities', last=True)\n",
    "    \n",
    "df[\"trip_report_preprocessed\"] = df[\"trip_report\"].progress_apply(preprocess)\n",
    "\n",
    "df[\"trip_report_spacy\"] = df[\"trip_report_preprocessed\"].progress_apply(spacy_pipeline)"
   ]
  },
  {
   "cell_type": "code",
   "execution_count": 224,
   "metadata": {},
   "outputs": [
    {
     "data": {
      "text/plain": [
       "(LSD,\n",
       " ten years,\n",
       " A few months ago,\n",
       " ten years old,\n",
       " Marla,\n",
       " Fight Club,\n",
       " one,\n",
       " LSD,\n",
       " fifth,\n",
       " Beatles,\n",
       " twenty-one,\n",
       " one,\n",
       " the next day,\n",
       " ten-year-old's,\n",
       " just a few hours,\n",
       " SEE,\n",
       " eleven years,\n",
       " third,\n",
       " LSD,\n",
       " first,\n",
       " three,\n",
       " second,\n",
       " one,\n",
       " third,\n",
       " two,\n",
       " LSD,\n",
       " about 12:15 on the night,\n",
       " the next day,\n",
       " 12:30,\n",
       " two,\n",
       " the night,\n",
       " about half an hour,\n",
       " 'Team America,\n",
       " an hour,\n",
       " Kate,\n",
       " 30-minute,\n",
       " hours,\n",
       " 1:45 am,\n",
       " first,\n",
       " ON,\n",
       " K's,\n",
       " K,\n",
       " 3-D.,\n",
       " ~really~,\n",
       " one,\n",
       " about an hour,\n",
       " summer,\n",
       " night,\n",
       " first,\n",
       " Weezer,\n",
       " Eileen,\n",
       " Crystal Method,\n",
       " Persia,\n",
       " several hours,\n",
       " one,\n",
       " 7-11,\n",
       " Nada Surf,\n",
       " that night,\n",
       " 7-11,\n",
       " 7,\n",
       " Persia,\n",
       " between 10 and 11 am,\n",
       " night,\n",
       " those few days,\n",
       " the twelfth hour,\n",
       " The next day,\n",
       " the day,\n",
       " the day,\n",
       " SEE,\n",
       " eleven years,\n",
       " LSD)"
      ]
     },
     "execution_count": 224,
     "metadata": {},
     "output_type": "execute_result"
    }
   ],
   "source": [
    "df[\"trip_report_spacy\"][100].doc.ents\n"
   ]
  },
  {
   "cell_type": "code",
   "execution_count": 33,
   "metadata": {},
   "outputs": [
    {
     "data": {
      "text/plain": [
       "['_',\n",
       " '__bytes__',\n",
       " '__class__',\n",
       " '__delattr__',\n",
       " '__dir__',\n",
       " '__doc__',\n",
       " '__eq__',\n",
       " '__format__',\n",
       " '__ge__',\n",
       " '__getattribute__',\n",
       " '__gt__',\n",
       " '__hash__',\n",
       " '__init__',\n",
       " '__init_subclass__',\n",
       " '__le__',\n",
       " '__len__',\n",
       " '__lt__',\n",
       " '__ne__',\n",
       " '__new__',\n",
       " '__pyx_vtable__',\n",
       " '__reduce__',\n",
       " '__reduce_ex__',\n",
       " '__repr__',\n",
       " '__setattr__',\n",
       " '__setstate__',\n",
       " '__sizeof__',\n",
       " '__str__',\n",
       " '__subclasshook__',\n",
       " '__unicode__',\n",
       " 'ancestors',\n",
       " 'check_flag',\n",
       " 'children',\n",
       " 'cluster',\n",
       " 'conjuncts',\n",
       " 'dep',\n",
       " 'dep_',\n",
       " 'doc',\n",
       " 'ent_id',\n",
       " 'ent_id_',\n",
       " 'ent_iob',\n",
       " 'ent_iob_',\n",
       " 'ent_type',\n",
       " 'ent_type_',\n",
       " 'get_extension',\n",
       " 'has_extension',\n",
       " 'has_vector',\n",
       " 'head',\n",
       " 'i',\n",
       " 'idx',\n",
       " 'is_alpha',\n",
       " 'is_ancestor',\n",
       " 'is_ascii',\n",
       " 'is_bracket',\n",
       " 'is_currency',\n",
       " 'is_digit',\n",
       " 'is_left_punct',\n",
       " 'is_lower',\n",
       " 'is_oov',\n",
       " 'is_punct',\n",
       " 'is_quote',\n",
       " 'is_right_punct',\n",
       " 'is_sent_start',\n",
       " 'is_space',\n",
       " 'is_stop',\n",
       " 'is_title',\n",
       " 'is_upper',\n",
       " 'lang',\n",
       " 'lang_',\n",
       " 'left_edge',\n",
       " 'lefts',\n",
       " 'lemma',\n",
       " 'lemma_',\n",
       " 'lex_id',\n",
       " 'like_email',\n",
       " 'like_num',\n",
       " 'like_url',\n",
       " 'lower',\n",
       " 'lower_',\n",
       " 'n_lefts',\n",
       " 'n_rights',\n",
       " 'nbor',\n",
       " 'norm',\n",
       " 'norm_',\n",
       " 'orth',\n",
       " 'orth_',\n",
       " 'pos',\n",
       " 'pos_',\n",
       " 'prefix',\n",
       " 'prefix_',\n",
       " 'prob',\n",
       " 'rank',\n",
       " 'remove_extension',\n",
       " 'right_edge',\n",
       " 'rights',\n",
       " 'sent',\n",
       " 'sent_start',\n",
       " 'sentiment',\n",
       " 'set_extension',\n",
       " 'shape',\n",
       " 'shape_',\n",
       " 'similarity',\n",
       " 'string',\n",
       " 'subtree',\n",
       " 'suffix',\n",
       " 'suffix_',\n",
       " 'tag',\n",
       " 'tag_',\n",
       " 'text',\n",
       " 'text_with_ws',\n",
       " 'vector',\n",
       " 'vector_norm',\n",
       " 'vocab',\n",
       " 'whitespace_']"
      ]
     },
     "execution_count": 33,
     "metadata": {},
     "output_type": "execute_result"
    }
   ],
   "source": [
    "dir(df[\"trip_report_spacy\"][0].doc[0])"
   ]
  },
  {
   "cell_type": "code",
   "execution_count": 494,
   "metadata": {},
   "outputs": [],
   "source": [
    "custom_stop_words = scrape.get_custom_stop_words()\n",
    "\n",
    "with open(util.CUSTOM_STOP_WORDS_FILE, \"wb\") as f:\n",
    "    pickle.dump(custom_stop_words, f)"
   ]
  },
  {
   "cell_type": "code",
   "execution_count": 495,
   "metadata": {
    "scrolled": false
   },
   "outputs": [],
   "source": [
    "custom_stop_words = set(util.unpickle(util.CUSTOM_STOP_WORDS_FILE))\n"
   ]
  },
  {
   "cell_type": "code",
   "execution_count": 747,
   "metadata": {},
   "outputs": [],
   "source": [
    "def tokenize(doc):\n",
    "    tokens = []\n",
    "    for w in doc.doc:\n",
    "        if all([\n",
    "            (w.is_alpha),\n",
    "            (w.lang_ == 'en'),\n",
    "            (w.is_ascii),\n",
    "            (not spacy_pipeline.vocab[w.text.lower()].is_stop),\n",
    "            (w.text.lower() not in custom_stop_words),\n",
    "            (w.lemma_ not in custom_stop_words),\n",
    "            (not w.is_space), \n",
    "            (not w.is_punct),\n",
    "            (not w.is_digit),\n",
    "            (w.ent_type == 0)\n",
    "        ]):\n",
    "            tokens.append(str(w.lemma_))\n",
    "    return tokens\n"
   ]
  },
  {
   "cell_type": "code",
   "execution_count": 845,
   "metadata": {},
   "outputs": [
    {
     "data": {
      "application/vnd.jupyter.widget-view+json": {
       "model_id": "d484802f1b9b48bda9ed59766c144d31",
       "version_major": 2,
       "version_minor": 0
      },
      "text/plain": [
       "HBox(children=(IntProgress(value=0, max=5370), HTML(value='')))"
      ]
     },
     "metadata": {},
     "output_type": "display_data"
    },
    {
     "name": "stdout",
     "output_type": "stream",
     "text": [
      "\n"
     ]
    },
    {
     "data": {
      "application/vnd.jupyter.widget-view+json": {
       "model_id": "97f23f42d95841e5bc17f676898285af",
       "version_major": 2,
       "version_minor": 0
      },
      "text/plain": [
       "HBox(children=(IntProgress(value=0, max=5370), HTML(value='')))"
      ]
     },
     "metadata": {},
     "output_type": "display_data"
    },
    {
     "name": "stdout",
     "output_type": "stream",
     "text": [
      "\n"
     ]
    }
   ],
   "source": [
    "tokenized = df[\"trip_report_spacy\"].progress_apply(tokenize)\n",
    "\n",
    "MIN_WORD_COUNT = 20\n",
    "\n",
    "vocabulary = []\n",
    "for tokens in tokenized:\n",
    "    vocabulary += tokens\n",
    "word_count_dict = dict(sorted(collections.Counter(vocabulary).items(), key=lambda x: x[1], reverse=True))\n",
    "vocabulary = set([w for w in word_count_dict if word_count_dict[w] >= MIN_WORD_COUNT])\n",
    "\n",
    "def filter_uncommon_words(tokens):\n",
    "    return [str(token) for token in tokens if token in vocabulary]\n",
    "\n",
    "df[\"trip_report_tokenized\"] = tokenized.progress_apply(filter_uncommon_words)"
   ]
  },
  {
   "cell_type": "code",
   "execution_count": 748,
   "metadata": {},
   "outputs": [
    {
     "data": {
      "text/plain": [
       "5368"
      ]
     },
     "execution_count": 748,
     "metadata": {},
     "output_type": "execute_result"
    }
   ],
   "source": [
    "len(vocabulary)"
   ]
  },
  {
   "cell_type": "code",
   "execution_count": 732,
   "metadata": {},
   "outputs": [
    {
     "data": {
      "text/plain": [
       "0       [friend, recently, tell, experience, estimate,...\n",
       "1       [think, people, naturally, prone, contact, ent...\n",
       "2       [experience, magic, old, sister, substance, ge...\n",
       "3       [event, second, encounter, hear, awakening, re...\n",
       "4       [beer, beer, pot, background, try, countless, ...\n",
       "                              ...                        \n",
       "5365    [set, experience, home, clean, organize, rest,...\n",
       "5366    [will, good, report, remember, happen, visuall...\n",
       "5367    [shall, moment, introduce, story, proceed, ori...\n",
       "5368    [trip, return, fair, couple, close, friend, gr...\n",
       "5369    [buy, morning, heavenly, blue, gate, research,...\n",
       "Name: trip_report_tokenized, Length: 5370, dtype: object"
      ]
     },
     "execution_count": 732,
     "metadata": {},
     "output_type": "execute_result"
    }
   ],
   "source": [
    "df[\"trip_report_tokenized\"]\n"
   ]
  },
  {
   "cell_type": "code",
   "execution_count": 1258,
   "metadata": {
    "scrolled": true
   },
   "outputs": [],
   "source": [
    "X = [gensim.models.doc2vec.TaggedDocument(words=trip_report_tokenized, tags=[u\"DOC_%s\" % i]) for i, trip_report_tokenized in enumerate(df[\"trip_report_tokenized\"])] \n",
    "\n",
    "    "
   ]
  },
  {
   "cell_type": "code",
   "execution_count": 1259,
   "metadata": {},
   "outputs": [],
   "source": [
    "VECTOR_SIZE = 256\n",
    "WINDOW = 4\n",
    "LR = 0.025\n",
    "LR_MIN = 0.025\n",
    "LR_STEP = 0.002"
   ]
  },
  {
   "cell_type": "code",
   "execution_count": 1260,
   "metadata": {},
   "outputs": [],
   "source": [
    "def train_model(model, X, num_epochs):\n",
    "    for epoch in range(1, num_epochs+1):\n",
    "        print(f\"Epoch: {epoch}\")\n",
    "        model.train(X, total_examples=model.corpus_count, epochs=model.epochs)\n",
    "        model.alpha -= LR_STEP  # decrease the learning rate\n",
    "        model.min_alpha = LR_MIN"
   ]
  },
  {
   "cell_type": "code",
   "execution_count": 1261,
   "metadata": {},
   "outputs": [
    {
     "name": "stderr",
     "output_type": "stream",
     "text": [
      "/Users/ianscottknight/anaconda3/lib/python3.7/site-packages/gensim/models/doc2vec.py:574: UserWarning: The parameter `size` is deprecated, will be removed in 4.0.0, use `vector_size` instead.\n",
      "  warnings.warn(\"The parameter `size` is deprecated, will be removed in 4.0.0, use `vector_size` instead.\")\n"
     ]
    }
   ],
   "source": [
    "model = gensim.models.doc2vec.Doc2Vec(X, workers=multiprocessing.cpu_count(), dm=1, size=VECTOR_SIZE, window=WINDOW, alpha=LR, min_alpha=LR_MIN)  \n",
    "\n",
    "\n"
   ]
  },
  {
   "cell_type": "code",
   "execution_count": 1262,
   "metadata": {
    "scrolled": true
   },
   "outputs": [
    {
     "name": "stdout",
     "output_type": "stream",
     "text": [
      "Epoch: 1\n",
      "Epoch: 2\n",
      "Epoch: 3\n",
      "Epoch: 4\n",
      "Epoch: 5\n",
      "Epoch: 6\n",
      "Epoch: 7\n",
      "Epoch: 8\n",
      "Epoch: 9\n",
      "Epoch: 10\n",
      "Epoch: 11\n",
      "Epoch: 12\n",
      "Epoch: 13\n",
      "Epoch: 14\n",
      "Epoch: 15\n",
      "Epoch: 16\n",
      "Epoch: 17\n",
      "Epoch: 18\n",
      "Epoch: 19\n",
      "Epoch: 20\n"
     ]
    }
   ],
   "source": [
    "train_model(model, X, num_epochs=20)\n"
   ]
  },
  {
   "cell_type": "code",
   "execution_count": 1266,
   "metadata": {},
   "outputs": [
    {
     "name": "stdout",
     "output_type": "stream",
     "text": [
      "4HOMiPT\n",
      " [('reviewer', 0.28213316202163696), ('winamp', 0.25105908513069153), ('gradual', 0.2490256428718567), ('dab', 0.23972222208976746), ('indistinct', 0.23517626523971558), ('unnoticed', 0.23442906141281128), ('effects', 0.22241315245628357), ('eyeballing', 0.22184230387210846), ('trailing', 0.220158651471138), ('pronounced', 0.21948525309562683)] \n",
      "\n",
      "DMT\n",
      " [('shaft', 0.2408960610628128), ('reviewer', 0.23430180549621582), ('powerless', 0.231988787651062), ('eyeballing', 0.23114576935768127), ('portal', 0.22933177649974823), ('vag', 0.22405512630939484), ('uncover', 0.2230307161808014), ('instinctively', 0.21999242901802063), ('nothingness', 0.217705637216568), ('polarity', 0.21580739319324493)] \n",
      "\n",
      "Mushrooms\n",
      " [('eyeballing', 0.2712293267250061), ('taco', 0.25115010142326355), ('cyanescen', 0.24105723202228546), ('reviewer', 0.23513191938400269), ('petty', 0.22774066030979156), ('senior', 0.22666803002357483), ('eighth', 0.2236962616443634), ('extremly', 0.2209431529045105), ('begining', 0.22093752026557922), ('untreated', 0.220358207821846)] \n",
      "\n",
      "Salvia_divinorum\n",
      " [('vag', 0.250571072101593), ('superimpose', 0.24923019111156464), ('whippet', 0.2179272174835205), ('wa', 0.20966269075870514), ('inflection', 0.2094072699546814), ('backward', 0.2091154158115387), ('wildlife', 0.20676293969154358), ('instinctively', 0.20542381703853607), ('eyeballing', 0.2027684450149536), ('forwards', 0.20111870765686035)] \n",
      "\n",
      "25CNBOMe\n",
      " [('reviewer', 0.2762763202190399), ('deprived', 0.24659165740013123), ('wooded', 0.23913148045539856), ('itch', 0.2361348271369934), ('radiant', 0.23374012112617493), ('publish', 0.23292386531829834), ('feast', 0.22912228107452393), ('alert', 0.22418926656246185), ('dab', 0.21881051361560822), ('sporadically', 0.21868693828582764)] \n",
      "\n",
      "DOB\n",
      " [('reviewer', 0.28207117319107056), ('eyeballing', 0.24904930591583252), ('minimal', 0.24275565147399902), ('terrific', 0.2392389327287674), ('breaking', 0.23532751202583313), ('vag', 0.22742755711078644), ('generic', 0.22265467047691345), ('taxi', 0.21975277364253998), ('toll', 0.21518203616142273), ('exam', 0.2137823849916458)] \n",
      "\n",
      "4AcODMT\n",
      " [('reviewer', 0.26640382409095764), ('eyeballing', 0.25936996936798096), ('secondary', 0.23256048560142517), ('deprived', 0.2302713245153427), ('colors', 0.2243145853281021), ('pasta', 0.2143479585647583), ('father', 0.20675262808799744), ('sunset', 0.20590028166770935), ('polarity', 0.20493574440479279), ('cyanescen', 0.20426930487155914)] \n",
      "\n",
      "2CE\n",
      " [('deprived', 0.3234538733959198), ('reviewer', 0.2853384017944336), ('eyeballing', 0.25963258743286133), ('distinctive', 0.21465404331684113), ('unnoticed', 0.21086671948432922), ('resource', 0.2095438838005066), ('empty', 0.20687627792358398), ('speckle', 0.20552301406860352), ('strainer', 0.20505499839782715), ('queasy', 0.20061148703098297)] \n",
      "\n",
      "DPT\n",
      " [('reviewer', 0.31057417392730713), ('chord', 0.2792336344718933), ('preferred', 0.2595042288303375), ('incorrectly', 0.24225518107414246), ('positivity', 0.23888814449310303), ('fleshy', 0.23868116736412048), ('eyeballing', 0.234686478972435), ('queasiness', 0.22976624965667725), ('goo', 0.22812208533287048), ('funhouse', 0.2230071723461151)] \n",
      "\n",
      "LSD\n",
      " [('vag', 0.2680615186691284), ('reviewer', 0.25762930512428284), ('deprived', 0.22554850578308105), ('eyeballing', 0.2248287945985794), ('begining', 0.21274401247501373), ('raf', 0.21231979131698608), ('gazebo', 0.20670080184936523), ('senior', 0.20207300782203674), ('fiance', 0.2014717161655426), ('jess', 0.19883157312870026)] \n",
      "\n",
      "2CP\n",
      " [('interruption', 0.275102823972702), ('picnic', 0.2453014999628067), ('blues', 0.23858654499053955), ('deprived', 0.2336198389530182), ('rival', 0.22504916787147522), ('reviewer', 0.2247242033481598), ('warping', 0.22386515140533447), ('cruel', 0.22349408268928528), ('wooded', 0.21612629294395447), ('approximate', 0.21559536457061768)] \n",
      "\n",
      "2CI\n",
      " [('reviewer', 0.32417410612106323), ('deprived', 0.26757577061653137), ('enthusiastic', 0.26352477073669434), ('eyeballing', 0.25257498025894165), ('cocktail', 0.23268291354179382), ('blah', 0.2221337854862213), ('wobbly', 0.22194835543632507), ('cyanescen', 0.22116470336914062), ('multivitamin', 0.22070197761058807), ('dab', 0.2177037000656128)] \n",
      "\n",
      "5MeODMT\n",
      " [('reviewer', 0.3235628604888916), ('lungful', 0.24991865456104279), ('headrush', 0.24707435071468353), ('summarize', 0.24629727005958557), ('measuring', 0.2342856228351593), ('inflection', 0.2293451428413391), ('pinch', 0.2278253138065338), ('universe', 0.22493751347064972), ('increment', 0.22146470844745636), ('om', 0.21722511947155)] \n",
      "\n",
      "Morning_Glory\n",
      " [('untreated', 0.2779277265071869), ('reviewer', 0.22769790887832642), ('eyeballing', 0.22353322803974152), ('headshop', 0.22317031025886536), ('wobbly', 0.22013342380523682), ('spec', 0.2143000364303589), ('deprived', 0.21404747664928436), ('halucination', 0.21192632615566254), ('sick', 0.20978517830371857), ('kneel', 0.2091827690601349)] \n",
      "\n",
      "2CT2\n",
      " [('reviewer', 0.3263765275478363), ('deprived', 0.29366832971572876), ('enthusiastic', 0.2519799470901489), ('workshop', 0.23769760131835938), ('condone', 0.23393931984901428), ('emphasis', 0.22924356162548065), ('balanced', 0.2258087545633316), ('blacklight', 0.22114957869052887), ('bid', 0.21939024329185486), ('dissonance', 0.21297575533390045)] \n",
      "\n",
      "5MeODiPT\n",
      " [('reviewer', 0.2969158887863159), ('strainer', 0.25467896461486816), ('eyeballing', 0.24531705677509308), ('depressant', 0.2426522970199585), ('soundly', 0.23975397646427155), ('restful', 0.22923190891742706), ('gallery', 0.229050874710083), ('emphasis', 0.22666525840759277), ('aphrodisiac', 0.22503569722175598), ('raver', 0.22412119805812836)] \n",
      "\n",
      "ALLAD\n",
      " [('reviewer', 0.2232566773891449), ('quilt', 0.2184237539768219), ('restful', 0.21189941465854645), ('invocation', 0.2091813087463379), ('perma', 0.20811018347740173), ('itch', 0.20515325665473938), ('hardhead', 0.2045360952615738), ('deprived', 0.20087796449661255), ('mindful', 0.1985257863998413), ('residual', 0.19827651977539062)] \n",
      "\n",
      "Cacti_Mescalinecontaining\n",
      " [('smoothie', 0.27912384271621704), ('cranberry', 0.26244741678237915), ('lime', 0.26168370246887207), ('strainer', 0.25939279794692993), ('pachanoi', 0.2494715303182602), ('font', 0.24559630453586578), ('cucumber', 0.23990505933761597), ('cutting', 0.2399049550294876), ('potion', 0.23902909457683563), ('deprived', 0.2353116273880005)] \n",
      "\n",
      "2CB\n",
      " [('reviewer', 0.30325180292129517), ('eyeballing', 0.2713230848312378), ('skunk', 0.24525387585163116), ('sensuality', 0.2334364652633667), ('soundly', 0.23328986763954163), ('copious', 0.22044718265533447), ('strainer', 0.21903732419013977), ('vag', 0.2168329656124115), ('ecstacy', 0.21306635439395905), ('hydrate', 0.21234861016273499)] \n",
      "\n",
      "25INBOMe\n",
      " [('reviewer', 0.2400360405445099), ('vag', 0.2275315523147583), ('swirly', 0.2187856137752533), ('streaming', 0.21819546818733215), ('aztec', 0.21702322363853455), ('abort', 0.21288560330867767), ('cyanescen', 0.21220663189888), ('drill', 0.20886239409446716), ('rubbery', 0.20839408040046692), ('spec', 0.20472556352615356)] \n",
      "\n",
      "4AcODET\n",
      " [('reviewer', 0.32883793115615845), ('predominantly', 0.236358180642128), ('colonize', 0.22579491138458252), ('dab', 0.2181347906589508), ('alert', 0.21668808162212372), ('hypothesis', 0.2159423977136612), ('indistinct', 0.21293550729751587), ('quote', 0.20925366878509521), ('condone', 0.20697933435440063), ('syndrome', 0.2067813277244568)] \n",
      "\n",
      "2CC\n",
      " [('reviewer', 0.30302491784095764), ('deprived', 0.29091835021972656), ('diarrhea', 0.24833540618419647), ('restful', 0.23862533271312714), ('sparkling', 0.2281251847743988), ('ammount', 0.22357825934886932), ('rice', 0.22266115248203278), ('im', 0.22072628140449524), ('stimulated', 0.21936479210853577), ('mesmerizing', 0.21678808331489563)] \n",
      "\n",
      "DiPT\n",
      " [('reviewer', 0.28852784633636475), ('mic', 0.2533523142337799), ('frequency', 0.25219571590423584), ('enhancer', 0.2467842698097229), ('deprived', 0.23651736974716187), ('preferred', 0.23427161574363708), ('range', 0.23284775018692017), ('unrecognizable', 0.2311890870332718), ('distort', 0.23117101192474365), ('drone', 0.22966402769088745)] \n",
      "\n",
      "2CT7\n",
      " [('reviewer', 0.30463895201683044), ('eyeballing', 0.27353599667549133), ('trailing', 0.26170626282691956), ('emphasis', 0.25178849697113037), ('deprived', 0.23457860946655273), ('perceptible', 0.22751203179359436), ('stall', 0.22242212295532227), ('rice', 0.21947312355041504), ('labor', 0.21879306435585022), ('condone', 0.21574555337429047)] \n",
      "\n",
      "1PLSD\n",
      " [('reviewer', 0.2776714563369751), ('hydrate', 0.25152453780174255), ('eyeballing', 0.24905072152614594), ('sensuality', 0.2186168134212494), ('health', 0.21316634118556976), ('starting', 0.21101760864257812), ('outlook', 0.20955628156661987), ('uncommon', 0.2075982391834259), ('predominantly', 0.20523309707641602), ('ale', 0.20509138703346252)] \n",
      "\n",
      "DOM\n",
      " [('deprived', 0.2584001123905182), ('soundly', 0.23225119709968567), ('sharing', 0.2263888716697693), ('eyeballing', 0.2210492193698883), ('fashioned', 0.22041942179203033), ('inaccurate', 0.21835675835609436), ('physiological', 0.2165655642747879), ('humidifier', 0.2150791883468628), ('vag', 0.21353229880332947), ('uh', 0.21152466535568237)] \n",
      "\n",
      "AMT\n",
      " [('resource', 0.2775915265083313), ('reviewer', 0.24501121044158936), ('raf', 0.24058350920677185), ('clammy', 0.23446175456047058), ('codeine', 0.2242598533630371), ('hologram', 0.22354674339294434), ('rubbery', 0.22153319418430328), ('inhibitor', 0.22142045199871063), ('think', 0.2130488157272339), ('appetite', 0.21046791970729828)] \n",
      "\n",
      "5MeOMIPT\n",
      " [('forgiving', 0.28185904026031494), ('topic', 0.2604500949382782), ('deprived', 0.25628340244293213), ('reviewer', 0.2513623833656311), ('ratio', 0.2441767156124115), ('restful', 0.24008895456790924), ('sharing', 0.2301698625087738), ('stiff', 0.22235801815986633), ('acting', 0.21976932883262634), ('romantic', 0.21462136507034302)] \n",
      "\n",
      "4AcODiPT\n",
      " [('reviewer', 0.2652105391025543), ('milky', 0.24340347945690155), ('soundly', 0.23569630086421967), ('residual', 0.23321548104286194), ('unnoticed', 0.22933544218540192), ('sharpness', 0.2240818291902542), ('sensuality', 0.22172555327415466), ('strainer', 0.21553167700767517), ('measuring', 0.21516181528568268), ('tantric', 0.2109684944152832)] \n",
      "\n",
      "4HOMET\n",
      " [('jumbled', 0.24817833304405212), ('emphasis', 0.2409660965204239), ('swirly', 0.23408478498458862), ('cascade', 0.2282199114561081), ('roaring', 0.22666671872138977), ('sparkly', 0.2208203673362732), ('drone', 0.21996387839317322), ('methoxetamine', 0.2170405387878418), ('streaming', 0.21167759597301483), ('institution', 0.21075710654258728)] \n",
      "\n",
      "DOC\n",
      " [('reviewer', 0.34012570977211), ('deprived', 0.2691291570663452), ('elusive', 0.2351588010787964), ('memantine', 0.23468267917633057), ('sedate', 0.22558113932609558), ('solvent', 0.2238173484802246), ('functioning', 0.22226759791374207), ('bombard', 0.21991220116615295), ('merit', 0.21541844308376312), ('kitten', 0.2127154916524887)] \n",
      "\n",
      "4HODiPT\n",
      " [('reviewer', 0.2865946292877197), ('unnoticed', 0.2457081377506256), ('radically', 0.24292655289173126), ('sooner', 0.23866555094718933), ('tessellate', 0.23821435868740082), ('gradual', 0.2314472198486328), ('warping', 0.2286474108695984), ('improvement', 0.22161801159381866), ('slower', 0.2170562744140625), ('jello', 0.21659314632415771)] \n",
      "\n",
      "2CD\n",
      " [('speedy', 0.24673999845981598), ('inhibit', 0.23621109127998352), ('activity', 0.23620572686195374), ('tightness', 0.22837428748607635), ('disregard', 0.2262822985649109), ('slower', 0.2233157902956009), ('psychology', 0.22117939591407776), ('stimulation', 0.2195524275302887), ('residential', 0.21880678832530975), ('buzzy', 0.21658675372600555)] \n",
      "\n"
     ]
    }
   ],
   "source": [
    "# get average doc vec\n",
    "avg_doc_vec = np.mean([model.docvecs[i] for i in range(len(model.docvecs))], axis=0)\n",
    "\n",
    "# accumalte doc vecs for each drug in a dictionary\n",
    "drug_to_doc_vecs_dict = collections.defaultdict(list)\n",
    "for i in range(len(model.docvecs)):\n",
    "    doc_tag = f\"DOC_{i}\"\n",
    "    drug = get_drug_from_doc_tag(doc_tag)\n",
    "    doc_vec = model.docvecs[doc_tag]\n",
    "    drug_to_doc_vecs_dict[drug].append(doc_vec)\n",
    "    \n",
    "# assign a psych vec for each psychedelic by taking adding the difference between the mean of the drug's doc vecs \n",
    "# and the average doc vec to the mean of the drug's doc vecs, in order to produce a vector that is more extreme in\n",
    "# the ways that the drug's average doc vec is already extreme, so as to highlight what makes it distinct from the \n",
    "# other drug's average doc vec\n",
    "SIGMA = 1\n",
    "drug_to_psych_vec_dict = {drug : np.mean(doc_vecs, axis=0) + ((np.mean(doc_vecs, axis=0) - avg_doc_vec) * SIGMA) for drug, doc_vecs in drug_to_doc_vecs_dict.items()}\n",
    "\n",
    "# print the words whose vectors are closest to each psych vec\n",
    "for drug, psych_vec in drug_to_psych_vec_dict.items():\n",
    "    print(drug+'\\n', model.wv.most_similar([psych_vec]), '\\n')\n",
    "    "
   ]
  },
  {
   "cell_type": "code",
   "execution_count": 1267,
   "metadata": {},
   "outputs": [
    {
     "data": {
      "text/plain": [
       "[('commonly', 0.24381382763385773),\n",
       " ('quality', 0.23719704151153564),\n",
       " ('psytrance', 0.22335121035575867),\n",
       " ('evil', 0.21242102980613708),\n",
       " ('popcorn', 0.20535722374916077),\n",
       " ('blah', 0.20381325483322144),\n",
       " ('bill', 0.2030932903289795),\n",
       " ('lick', 0.19241774082183838),\n",
       " ('vertical', 0.19013330340385437),\n",
       " ('saucer', 0.19007278978824615)]"
      ]
     },
     "execution_count": 1267,
     "metadata": {},
     "output_type": "execute_result"
    }
   ],
   "source": [
    "model.wv.most_similar(positive=[\"queen\", \"man\"], negative=[\"woman\"])"
   ]
  },
  {
   "cell_type": "code",
   "execution_count": 1246,
   "metadata": {
    "scrolled": true
   },
   "outputs": [
    {
     "data": {
      "text/plain": [
       "[('taco', 0.3572549819946289),\n",
       " ('tweak', 0.2910372316837311),\n",
       " ('ph', 0.28370434045791626),\n",
       " ('negatively', 0.28251397609710693),\n",
       " ('granola', 0.28226596117019653),\n",
       " ('choosing', 0.2786223590373993),\n",
       " ('til', 0.27661797404289246),\n",
       " ('spaghetti', 0.2763144373893738),\n",
       " ('achievement', 0.2709430158138275),\n",
       " ('accident', 0.26890936493873596)]"
      ]
     },
     "execution_count": 1246,
     "metadata": {},
     "output_type": "execute_result"
    }
   ],
   "source": [
    "positive = [ drug_to_psych_vec_dict[\"Mushrooms\"] ]\n",
    "negative = [ model.wv[\"fun\"] ]\n",
    "model.wv.most_similar(positive=positive, negative=negative)"
   ]
  },
  {
   "cell_type": "code",
   "execution_count": 1249,
   "metadata": {},
   "outputs": [
    {
     "data": {
      "text/plain": [
       "[('Salvia_divinorum', 0.8145820498466492),\n",
       " ('5MeODMT', 0.8282520622014999),\n",
       " ('DMT', 0.8413759917020798)]"
      ]
     },
     "execution_count": 1249,
     "metadata": {},
     "output_type": "execute_result"
    }
   ],
   "source": [
    "vec = model.wv[\"dread\"] \n",
    "get_drug_distances(vec)[:3]"
   ]
  },
  {
   "cell_type": "code",
   "execution_count": 1155,
   "metadata": {},
   "outputs": [
    {
     "data": {
      "text/plain": [
       "[('5MeODMT', 0.46333587169647217),\n",
       " ('DPT', 0.47005122900009155),\n",
       " ('4AcODMT', 0.5520279705524445)]"
      ]
     },
     "execution_count": 1155,
     "metadata": {},
     "output_type": "execute_result"
    }
   ],
   "source": [
    "vec = drug_to_psych_vec_dict[\"DMT\"] - model.wv[\"elf\"]\n",
    "get_drug_distances(vec)[:3]"
   ]
  },
  {
   "cell_type": "code",
   "execution_count": 1250,
   "metadata": {},
   "outputs": [
    {
     "data": {
      "text/plain": [
       "[('Salvia_divinorum', 0.8145820498466492),\n",
       " ('5MeODMT', 0.8282520622014999),\n",
       " ('DMT', 0.8413759917020798)]"
      ]
     },
     "execution_count": 1250,
     "metadata": {},
     "output_type": "execute_result"
    }
   ],
   "source": [
    "positive = drug_to_psych_vec_dict[\"DiPT\"] - model.wv[\"audio\"] + model.wv[\"vision\"]\n",
    "get_drug_distances(vec)[:3]"
   ]
  },
  {
   "cell_type": "code",
   "execution_count": 1157,
   "metadata": {},
   "outputs": [
    {
     "data": {
      "text/plain": [
       "[('25INBOMe', 0.25548189878463745),\n",
       " ('2CP', 0.2974596619606018),\n",
       " ('LSD', 0.31245797872543335)]"
      ]
     },
     "execution_count": 1157,
     "metadata": {},
     "output_type": "execute_result"
    }
   ],
   "source": [
    "vec = drug_to_psych_vec_dict[\"Mushrooms\"] - model.wv[\"spirit\"] \n",
    "get_drug_distances(vec)[:3]"
   ]
  },
  {
   "cell_type": "code",
   "execution_count": 1158,
   "metadata": {},
   "outputs": [
    {
     "data": {
      "text/plain": [
       "[('25INBOMe', 0.28415989875793457),\n",
       " ('2CP', 0.3496268391609192),\n",
       " ('LSD', 0.3522094488143921)]"
      ]
     },
     "execution_count": 1158,
     "metadata": {},
     "output_type": "execute_result"
    }
   ],
   "source": [
    "vec = drug_to_psych_vec_dict[\"LSD\"] - model.wv[\"spirit\"] \n",
    "get_drug_distances(vec)[:3]"
   ]
  },
  {
   "cell_type": "code",
   "execution_count": 1133,
   "metadata": {},
   "outputs": [
    {
     "data": {
      "text/plain": [
       "[('Mushrooms', 0.3312106728553772),\n",
       " ('DMT', 0.4306846857070923),\n",
       " ('LSD', 0.49181681871414185)]"
      ]
     },
     "execution_count": 1133,
     "metadata": {},
     "output_type": "execute_result"
    }
   ],
   "source": [
    "vec = drug_to_psych_vec_dict[\"Mushrooms\"] + model.wv[\"spirit\"] \n",
    "get_drug_distances(vec)[:3]"
   ]
  },
  {
   "cell_type": "code",
   "execution_count": 1159,
   "metadata": {},
   "outputs": [
    {
     "data": {
      "text/plain": [
       "[('Mushrooms', 0.8046131283044815),\n",
       " ('LSD', 0.8401806801557541),\n",
       " ('4AcODMT', 0.8790504485368729)]"
      ]
     },
     "execution_count": 1159,
     "metadata": {},
     "output_type": "execute_result"
    }
   ],
   "source": [
    "vec = drug_to_psych_vec_dict[\"LSD\"] - model.wv[\"tracer\"] \n",
    "get_drug_distances(vec)[:3]"
   ]
  },
  {
   "cell_type": "code",
   "execution_count": 1160,
   "metadata": {},
   "outputs": [
    {
     "data": {
      "text/plain": [
       "[('Salvia_divinorum', 0.35803139209747314),\n",
       " ('LSD', 0.5490208268165588),\n",
       " ('Mushrooms', 0.5599702596664429)]"
      ]
     },
     "execution_count": 1160,
     "metadata": {},
     "output_type": "execute_result"
    }
   ],
   "source": [
    "vec = drug_to_psych_vec_dict[\"Salvia_divinorum\"] - model.wv[\"angel\"] + model.wv[\"demon\"]\n",
    "get_drug_distances(vec)[:3]"
   ]
  },
  {
   "cell_type": "code",
   "execution_count": 1144,
   "metadata": {},
   "outputs": [
    {
     "data": {
      "text/plain": [
       "[('Salvia_divinorum', 0.07076036930084229),\n",
       " ('DMT', 0.23701536655426025),\n",
       " ('5MeODMT', 0.4168856739997864)]"
      ]
     },
     "execution_count": 1144,
     "metadata": {},
     "output_type": "execute_result"
    }
   ],
   "source": [
    "vec = drug_to_psych_vec_dict[\"Salvia_divinorum\"] - model.wv[\"demon\"] + model.wv[\"angel\"]\n",
    "get_drug_distances(vec)[:3]"
   ]
  },
  {
   "cell_type": "code",
   "execution_count": 1145,
   "metadata": {},
   "outputs": [
    {
     "data": {
      "text/plain": [
       "[('energetic', 0.6788601875305176),\n",
       " ('excitement', 0.64064621925354),\n",
       " ('ease', 0.6341177821159363),\n",
       " ('relaxation', 0.619430661201477),\n",
       " ('nervousness', 0.6186169385910034),\n",
       " ('balanced', 0.6167384386062622),\n",
       " ('oblige', 0.6098774671554565),\n",
       " ('confidence', 0.606646716594696),\n",
       " ('sharing', 0.6064709424972534),\n",
       " ('mood', 0.5889301896095276)]"
      ]
     },
     "execution_count": 1145,
     "metadata": {},
     "output_type": "execute_result"
    }
   ],
   "source": [
    "model.wv.most_similar(positive=[\"anxiety\", \"good\"], negative=[\"bad\"])"
   ]
  },
  {
   "cell_type": "code",
   "execution_count": 1162,
   "metadata": {},
   "outputs": [
    {
     "data": {
      "text/plain": [
       "[('newbie', 0.5756745934486389),\n",
       " ('count', 0.5743634700775146),\n",
       " ('plasma', 0.5678542256355286),\n",
       " ('portal', 0.5564854145050049),\n",
       " ('balloon', 0.5454720258712769),\n",
       " ('polarity', 0.5304774045944214),\n",
       " ('inhalation', 0.5297915935516357),\n",
       " ('whippet', 0.5238511562347412),\n",
       " ('motherfucker', 0.5092605948448181),\n",
       " ('second', 0.5082868337631226)]"
      ]
     },
     "execution_count": 1162,
     "metadata": {},
     "output_type": "execute_result"
    }
   ],
   "source": [
    "model.wv.most_similar(positive=[drug_to_psych_vec_dict[\"DMT\"]])"
   ]
  },
  {
   "cell_type": "code",
   "execution_count": 838,
   "metadata": {},
   "outputs": [
    {
     "data": {
      "text/plain": [
       "[('DOC_3401', 0.5245494246482849),\n",
       " ('DOC_1443', 0.48900720477104187),\n",
       " ('DOC_4035', 0.48837921023368835)]"
      ]
     },
     "execution_count": 838,
     "metadata": {},
     "output_type": "execute_result"
    }
   ],
   "source": [
    "w = \"transcendent\"\n",
    "\n",
    "word_vec = model.wv[w]\n",
    "model.docvecs.most_similar([word_vec])[:3]"
   ]
  },
  {
   "cell_type": "code",
   "execution_count": 922,
   "metadata": {},
   "outputs": [
    {
     "data": {
      "text/plain": [
       "'DMT'"
      ]
     },
     "execution_count": 922,
     "metadata": {},
     "output_type": "execute_result"
    }
   ],
   "source": [
    "def get_drug_from_doc_tag(doc_tag):\n",
    "    i = int(doc_tag.replace(\"DOC_\", \"\"))\n",
    "    return df[\"drug\"][i]\n",
    "\n",
    "get_drug_from_doc_tag(\"DOC_2935\")"
   ]
  },
  {
   "cell_type": "code",
   "execution_count": 1277,
   "metadata": {},
   "outputs": [
    {
     "data": {
      "text/plain": [
       "[('DPT', 0.0),\n",
       " ('2CT2', 0.429596483707428),\n",
       " ('5MeODMT', 0.43245965242385864),\n",
       " ('2CT7', 0.4427056312561035),\n",
       " ('5MeODiPT', 0.44308608770370483),\n",
       " ('2CB', 0.45380181074142456),\n",
       " ('2CI', 0.4584171772003174),\n",
       " ('2CE', 0.4697166681289673),\n",
       " ('4AcODMT', 0.49564307928085327),\n",
       " ('4AcODiPT', 0.5105842649936676),\n",
       " ('4HODiPT', 0.5139898061752319),\n",
       " ('DMT', 0.5185332596302032),\n",
       " ('5MeOMIPT', 0.527381032705307),\n",
       " ('2CC', 0.5307337939739227),\n",
       " ('4AcODET', 0.535563051700592),\n",
       " ('DiPT', 0.5398919582366943),\n",
       " ('Cacti_Mescalinecontaining', 0.557040274143219),\n",
       " ('AMT', 0.5575161278247833),\n",
       " ('4HOMiPT', 0.5589225888252258),\n",
       " ('DOM', 0.5896458029747009),\n",
       " ('1PLSD', 0.5915715992450714),\n",
       " ('DOB', 0.6008456945419312),\n",
       " ('DOC', 0.6094790101051331),\n",
       " ('ALLAD', 0.6211459040641785),\n",
       " ('2CD', 0.623259425163269),\n",
       " ('4HOMET', 0.6288212835788727),\n",
       " ('2CP', 0.6316372752189636),\n",
       " ('25CNBOMe', 0.635828822851181),\n",
       " ('Morning_Glory', 0.6390312612056732),\n",
       " ('LSD', 0.6509705483913422),\n",
       " ('Mushrooms', 0.6536395847797394),\n",
       " ('Salvia_divinorum', 0.6621378660202026),\n",
       " ('25INBOMe', 0.721960574388504)]"
      ]
     },
     "execution_count": 1277,
     "metadata": {},
     "output_type": "execute_result"
    }
   ],
   "source": [
    "def get_drug_distances(vec):\n",
    "    drugs = []\n",
    "    dists = []\n",
    "    for drug in drug_to_psych_vec_dict.keys():\n",
    "        dist = scipy.spatial.distance.cosine(vec, drug_to_psych_vec_dict[drug])\n",
    "        drugs.append(drug)\n",
    "        dists.append(dist)\n",
    "    dists, drugs = zip(*sorted(zip(dists, drugs)))\n",
    "    return [(drugs[i], dists[i]) for i in range(len(dists))]\n",
    "            \n",
    "get_drug_distances(drug_to_psych_vec_dict[\"DPT\"])"
   ]
  },
  {
   "cell_type": "code",
   "execution_count": 842,
   "metadata": {},
   "outputs": [
    {
     "data": {
      "text/plain": [
       "[('DOC_5321', 0.7406560778617859),\n",
       " ('DOC_1091', 0.6503705382347107),\n",
       " ('DOC_1220', 0.6423077583312988),\n",
       " ('DOC_2940', 0.6345523595809937),\n",
       " ('DOC_682', 0.6107873320579529)]"
      ]
     },
     "execution_count": 842,
     "metadata": {},
     "output_type": "execute_result"
    }
   ],
   "source": [
    "drug = \"LSD\"\n",
    "\n",
    "doc_vec = drug_to_avg_doc_vec_dict[drug]\n",
    "model.docvecs.most_similar([doc_vec])[:5]\n"
   ]
  },
  {
   "cell_type": "code",
   "execution_count": 843,
   "metadata": {},
   "outputs": [
    {
     "data": {
      "text/plain": [
       "[('DOC_1307', 0.6098350286483765),\n",
       " ('DOC_1982', 0.6055248379707336),\n",
       " ('DOC_1817', 0.6015058755874634)]"
      ]
     },
     "execution_count": 843,
     "metadata": {},
     "output_type": "execute_result"
    }
   ],
   "source": [
    "drug = \"1\"\n",
    "\n",
    "model.docvecs.most_similar(\"DOC_%s\" % drug)[:3]"
   ]
  },
  {
   "cell_type": "code",
   "execution_count": 96,
   "metadata": {},
   "outputs": [],
   "source": [
    "def find_trip_reports_with_token(token, verbose=False):\n",
    "    for i, trip_report in enumerate(df[\"trip_report_tokenized\"]):\n",
    "        if token in trip_report:\n",
    "            if verbose:\n",
    "                print(i, df[\"drug\"][i], df[\"trip_report\"][i])\n",
    "            print(i, df[\"drug\"][i])"
   ]
  },
  {
   "cell_type": "code",
   "execution_count": 1274,
   "metadata": {},
   "outputs": [
    {
     "data": {
      "text/plain": [
       "<matplotlib.collections.PathCollection at 0x1a7be14b10>"
      ]
     },
     "execution_count": 1274,
     "metadata": {},
     "output_type": "execute_result"
    },
    {
     "data": {
      "image/png": "[encoded data removed]",
      "text/plain": [
       "<Figure size 432x432 with 1 Axes>"
      ]
     },
     "metadata": {
      "needs_background": "light"
     },
     "output_type": "display_data"
    }
   ],
   "source": [
    "from sklearn.manifold import TSNE\n",
    "import matplotlib.pyplot as plt\n",
    "\n",
    "\n",
    "doc_tags = np.unique(df[\"drug\"])\n",
    "tsne = TSNE(n_components=2)\n",
    "X_tsne = tsne.fit_transform([drug_to_doc_vec_dict[drug] for i, doc_tag in enumerate(doc_tags)])\n",
    "df_tsne = pd.DataFrame(X_tsne, index=doc_tags, columns=['x', 'y'])\n",
    "\n",
    "fig = plt.figure(figsize=(6,6))\n",
    "plt.scatter(x=df_tsne[\"x\"], y=df_tsne[\"y\"])"
   ]
  },
  {
   "cell_type": "code",
   "execution_count": null,
   "metadata": {},
   "outputs": [],
   "source": []
  }
 ],
 "metadata": {
  "kernelspec": {
   "display_name": "Python 3",
   "language": "python",
   "name": "python3"
  },
  "language_info": {
   "codemirror_mode": {
    "name": "ipython",
    "version": 3
   },
   "file_extension": ".py",
   "mimetype": "text/x-python",
   "name": "python",
   "nbconvert_exporter": "python",
   "pygments_lexer": "ipython3",
   "version": "3.7.4"
  }
 },
 "nbformat": 4,
 "nbformat_minor": 2
}
