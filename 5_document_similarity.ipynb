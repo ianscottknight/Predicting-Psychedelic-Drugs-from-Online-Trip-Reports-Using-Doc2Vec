{
 "cells": [
  {
   "cell_type": "code",
   "execution_count": null,
   "metadata": {},
   "outputs": [],
   "source": []
  },
  {
   "cell_type": "code",
   "execution_count": null,
   "metadata": {},
   "outputs": [],
   "source": []
  },
  {
   "cell_type": "code",
   "execution_count": null,
   "metadata": {},
   "outputs": [],
   "source": []
  },
  {
   "cell_type": "code",
   "execution_count": null,
   "metadata": {},
   "outputs": [],
   "source": [
    "# get average doc vec\n",
    "avg_doc_vec = np.mean([model.docvecs[i] for i in range(len(model.docvecs))], axis=0)\n",
    "\n",
    "# accumulate doc vecs for each drug in a dictionary\n",
    "drug_to_doc_vecs_dict = collections.defaultdict(list)\n",
    "for i, drug in enumerate(df[\"drug\"]):\n",
    "    doc_tag = f\"DOC_{i}\"\n",
    "    doc_vec = model.docvecs[doc_tag]\n",
    "    drug_to_doc_vecs_dict[drug].append(doc_vec)\n",
    "    \n",
    "# assign a psych vec for each psychedelic by taking adding the difference between the mean of the drug's doc vecs \n",
    "# and the average doc vec to the mean of the drug's doc vecs, in order to produce a vector that is more extreme in\n",
    "# the ways that the drug's average doc vec is already extreme, so as to highlight what makes it distinct from the \n",
    "# other drug's average doc vec\n",
    "SIGMA = 0\n",
    "drug_to_psych_vec_dict = {drug : np.mean(doc_vecs, axis=0) + ((np.mean(doc_vecs, axis=0) - avg_doc_vec) * SIGMA) for drug, doc_vecs in drug_to_doc_vecs_dict.items()}\n",
    "\n",
    "# print the words whose vectors are closest to each psych vec\n",
    "for drug, psych_vec in drug_to_psych_vec_dict.items():\n",
    "    print(drug+'\\n', model.wv.most_similar([psych_vec]), '\\n')\n",
    "    "
   ]
  }
 ],
 "metadata": {
  "kernelspec": {
   "display_name": "Python 3",
   "language": "python",
   "name": "python3"
  },
  "language_info": {
   "codemirror_mode": {
    "name": "ipython",
    "version": 3
   },
   "file_extension": ".py",
   "mimetype": "text/x-python",
   "name": "python",
   "nbconvert_exporter": "python",
   "pygments_lexer": "ipython3",
   "version": "3.7.4"
  }
 },
 "nbformat": 4,
 "nbformat_minor": 2
}
